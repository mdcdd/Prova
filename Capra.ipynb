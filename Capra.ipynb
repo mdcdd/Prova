{
 "cells": [
  {
   "cell_type": "code",
   "execution_count": 1,
   "id": "c4a249c4-ca30-4f66-aed9-822124dac4e8",
   "metadata": {},
   "outputs": [
    {
     "name": "stdout",
     "output_type": "stream",
     "text": [
      "Conservative probability =  0.323\n",
      "Newcomer probability =  0.5073\n",
      "Switcher probability =  0.5026\n"
     ]
    }
   ],
   "source": [
    "import numpy as np\n",
    "\n",
    "n=0\n",
    "C=0\n",
    "N=0\n",
    "S=0\n",
    "\n",
    "while (n<10000):\n",
    "\tTutte = ['Capra','Pecora','Cavolo']\n",
    "\tDue = ['Capra','Pecora','Cavolo']\n",
    "\tMeno = ['Capra','Pecora','Cavolo']\n",
    "\tcons = np.random.choice(Tutte)\n",
    "\tPres = np.random.choice(['Capra','Pecora'])\n",
    "\tDue.remove(Pres)\n",
    "\tnewc = np.random.choice(Due)\n",
    "\tswitch = np.random.choice(Tutte)\n",
    "\tMeno.remove(switch)\n",
    "\tif 'Cavolo' in Meno: Meno.remove('Cavolo')\n",
    "\tPres = np.random.choice(Meno)\n",
    "\tTutte.remove(Pres)\n",
    "\tswitch = np.random.choice(Tutte)\n",
    "\n",
    "\tif cons == 'Cavolo': C=C+1\n",
    "\tif newc == 'Cavolo': N=N+1\n",
    "\tif switch == 'Cavolo': S=S+1\n",
    "\tn = n+1\n",
    "\n",
    "print('Conservative probability = ',C/n)\n",
    "print('Newcomer probability = ',N/n)\n",
    "print('Switcher probability = ',S/n)\n"
   ]
  },
  {
   "cell_type": "code",
   "execution_count": null,
   "id": "1fce98e7-d51c-4222-8e5c-a28d9601b35d",
   "metadata": {},
   "outputs": [],
   "source": []
  }
 ],
 "metadata": {
  "kernelspec": {
   "display_name": "Python 3 (ipykernel)",
   "language": "python",
   "name": "python3"
  },
  "language_info": {
   "codemirror_mode": {
    "name": "ipython",
    "version": 3
   },
   "file_extension": ".py",
   "mimetype": "text/x-python",
   "name": "python",
   "nbconvert_exporter": "python",
   "pygments_lexer": "ipython3",
   "version": "3.10.12"
  }
 },
 "nbformat": 4,
 "nbformat_minor": 5
}
